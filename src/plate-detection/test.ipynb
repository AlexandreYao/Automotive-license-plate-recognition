{
 "cells": [
  {
   "cell_type": "code",
   "execution_count": null,
   "metadata": {},
   "outputs": [],
   "source": [
    "from torch.utils.data import DataLoader\n",
    "from customDataset import CustomDataset\n",
    "def create_dataloader(image_folder, annotation_folder, batch_size=32, image_size=416):\n",
    "    dataset = CustomDataset(image_folder, annotation_folder, image_size=image_size)\n",
    "    dataloader = DataLoader(dataset, batch_size=batch_size, shuffle=True)\n",
    "    return dataloader\n",
    "\n",
    "# Exemple d'utilisation :\n",
    "image_folder = r\"..\\..\\data\\images\\cars\\images-files\"\n",
    "annotation_folder = image_folder\n",
    "batch_size = 2\n",
    "image_size = 416\n",
    "dataloader = create_dataloader(image_folder, annotation_folder, batch_size, image_size)"
   ]
  },
  {
   "cell_type": "code",
   "execution_count": null,
   "metadata": {},
   "outputs": [],
   "source": [
    "import matplotlib.pyplot as plt\n",
    "import torchvision.transforms.functional as TF\n",
    "\n",
    "# Parcourir le DataLoader pour obtenir les 6 premiers éléments\n",
    "num_images = 6\n",
    "images_to_display = []\n",
    "annotations_to_display = []\n",
    "for images, annotations in dataloader:\n",
    "    for image, annotation in zip(images, annotations):\n",
    "        images_to_display.append(image)\n",
    "        annotations_to_display.append(annotation)\n",
    "        if len(images_to_display) >= num_images:\n",
    "            break\n",
    "    if len(images_to_display) >= num_images:\n",
    "        break\n",
    "\n",
    "# Affichage des images\n",
    "fig, axes = plt.subplots(2, 3, figsize=(12, 8))\n",
    "for i, ax in enumerate(axes.flat):\n",
    "    image = TF.to_pil_image(images_to_display[i])\n",
    "    ax.imshow(image)\n",
    "    ax.axis('off')\n",
    "    ax.set_title(f'Image {i+1}')\n",
    "\n",
    "plt.tight_layout()\n",
    "plt.show()"
   ]
  }
 ],
 "metadata": {
  "kernelspec": {
   "display_name": "deep_learning",
   "language": "python",
   "name": "python3"
  },
  "language_info": {
   "codemirror_mode": {
    "name": "ipython",
    "version": 3
   },
   "file_extension": ".py",
   "mimetype": "text/x-python",
   "name": "python",
   "nbconvert_exporter": "python",
   "pygments_lexer": "ipython3",
   "version": "3.12.3"
  }
 },
 "nbformat": 4,
 "nbformat_minor": 2
}
