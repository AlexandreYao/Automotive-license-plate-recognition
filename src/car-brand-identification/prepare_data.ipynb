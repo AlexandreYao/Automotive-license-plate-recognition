{
 "cells": [
  {
   "cell_type": "code",
   "execution_count": 1,
   "metadata": {},
   "outputs": [
    {
     "name": "stdout",
     "output_type": "stream",
     "text": [
      "torch.Size([10, 3, 416, 416])\n",
      "tensor([[0., 0., 1.],\n",
      "        [1., 0., 0.],\n",
      "        [1., 0., 0.],\n",
      "        [0., 0., 1.],\n",
      "        [0., 1., 0.],\n",
      "        [0., 0., 1.],\n",
      "        [0., 0., 1.],\n",
      "        [0., 0., 1.],\n",
      "        [0., 0., 1.],\n",
      "        [0., 1., 0.]])\n"
     ]
    }
   ],
   "source": [
    "from customDataset import CustomDataset\n",
    "from torch.utils.data import DataLoader\n",
    "\n",
    "def create_dataloader(image_folder, data_path, batch_size=32, image_size=416):\n",
    "    dataset = CustomDataset(image_folder=image_folder, data_path=data_path, image_size=image_size)\n",
    "    dataloader = DataLoader(dataset, batch_size=batch_size, shuffle=True)\n",
    "    return dataloader\n",
    "\n",
    "country=\"fr\"\n",
    "image_folder = rf\"..\\..\\data\\images\\cars\\{country}\"\n",
    "data_path = rf\"..\\..\\data\\data\\data_{country}.csv\"\n",
    "batch_size = 10\n",
    "image_size = 416\n",
    "dataloader = create_dataloader(image_folder, data_path, batch_size, image_size)\n",
    "\n",
    "image, labels = next(iter(dataloader))\n",
    "print(image.shape)\n",
    "print(labels)"
   ]
  }
 ],
 "metadata": {
  "kernelspec": {
   "display_name": "deep_learning",
   "language": "python",
   "name": "python3"
  },
  "language_info": {
   "codemirror_mode": {
    "name": "ipython",
    "version": 3
   },
   "file_extension": ".py",
   "mimetype": "text/x-python",
   "name": "python",
   "nbconvert_exporter": "python",
   "pygments_lexer": "ipython3",
   "version": "3.12.3"
  }
 },
 "nbformat": 4,
 "nbformat_minor": 2
}
