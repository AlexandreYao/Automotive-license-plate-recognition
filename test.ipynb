{
 "cells": [
  {
   "cell_type": "code",
   "execution_count": 1,
   "metadata": {},
   "outputs": [],
   "source": [
    "import pandas as pd\n",
    "\n",
    "data1 = pd.read_csv(r\"C:\\Users\\yaoko\\Documents\\projects\\Automotive-license-plate-recognition\\data\\data\\data_fr.csv\")\n",
    "data2 = pd.read_csv(r\"C:\\Users\\yaoko\\Documents\\projects\\Automotive-license-plate-recognition\\data\\data\\data_de.csv\")\n",
    "data3 = pd.read_csv(r\"C:\\Users\\yaoko\\Documents\\projects\\Automotive-license-plate-recognition\\data\\data\\data_pl.csv\")"
   ]
  },
  {
   "cell_type": "code",
   "execution_count": 2,
   "metadata": {},
   "outputs": [],
   "source": [
    "# data2 = data2[~data2[\"car_img_name\"].isin(data1[\"car_img_name\"])]\n",
    "# data2.to_csv(r\"C:\\Users\\yaoko\\Documents\\projects\\Automotive-license-plate-recognition\\data\\data\\data_de.csv\", index=False)"
   ]
  },
  {
   "cell_type": "code",
   "execution_count": 3,
   "metadata": {},
   "outputs": [],
   "source": [
    "data3 = data3[~data3[\"car_img_name\"].isin(data1[\"car_img_name\"])]\n",
    "data3 = data3[~data3[\"car_img_name\"].isin(data2[\"car_img_name\"])]\n",
    "data3.to_csv(r\"C:\\Users\\yaoko\\Documents\\projects\\Automotive-license-plate-recognition\\data\\data\\data_pl.csv\", index=False)"
   ]
  }
 ],
 "metadata": {
  "kernelspec": {
   "display_name": "deep_learning",
   "language": "python",
   "name": "python3"
  },
  "language_info": {
   "codemirror_mode": {
    "name": "ipython",
    "version": 3
   },
   "file_extension": ".py",
   "mimetype": "text/x-python",
   "name": "python",
   "nbconvert_exporter": "python",
   "pygments_lexer": "ipython3",
   "version": "3.12.3"
  }
 },
 "nbformat": 4,
 "nbformat_minor": 2
}
